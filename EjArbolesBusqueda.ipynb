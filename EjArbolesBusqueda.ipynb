{
  "nbformat": 4,
  "nbformat_minor": 0,
  "metadata": {
    "colab": {
      "provenance": []
    },
    "kernelspec": {
      "name": "python3",
      "display_name": "Python 3"
    },
    "language_info": {
      "name": "python"
    }
  },
  "cells": [
    {
      "cell_type": "code",
      "source": [],
      "metadata": {
        "id": "e7pl93o6KCZt"
      },
      "execution_count": null,
      "outputs": []
    },
    {
      "cell_type": "markdown",
      "source": [
        "- Cree un arbol de busqueda binaria con los elementos del conjunto A"
      ],
      "metadata": {
        "id": "BBeTh1sKJuN0"
      }
    },
    {
      "cell_type": "markdown",
      "source": [
        "A = {21,14,2,11,7,20,13,30,18,5,6,29,12,27,4,28,10,15,22,1,19,3}\n",
        "\n",
        "\n",
        "\n"
      ],
      "metadata": {
        "id": "P_VwFshAJ2G7"
      }
    },
    {
      "cell_type": "code",
      "execution_count": 4,
      "metadata": {
        "colab": {
          "base_uri": "https://localhost:8080/"
        },
        "id": "5pjzfu1RCyYo",
        "outputId": "7df85c5b-4bf5-4018-8a70-06dc4bcf4aa8"
      },
      "outputs": [
        {
          "output_type": "stream",
          "name": "stdout",
          "text": [
            "Elementos en orden (in-order): [1, 2, 3, 4, 5, 6, 7, 10, 11, 12, 13, 14, 15, 18, 19, 20, 21, 22, 27, 28, 29, 30]\n",
            "Elementos en preorden (pre-order): [21, 14, 2, 1, 11, 7, 5, 4, 3, 6, 10, 13, 12, 20, 18, 15, 19, 30, 29, 27, 22, 28]\n",
            "Elementos en postorden (post-order): [1, 3, 4, 6, 5, 10, 7, 12, 13, 11, 2, 15, 19, 18, 20, 14, 22, 28, 27, 29, 30, 21]\n"
          ]
        }
      ],
      "source": [
        "# Clase para crear un nodo del árbol\n",
        "class Nodo:\n",
        "    def __init__(self, valor):\n",
        "        self.valor = valor\n",
        "        self.izquierda = None\n",
        "        self.derecha = None\n",
        "\n",
        "# Clase para crear el árbol de búsqueda binaria\n",
        "class ArbolBusquedaBinaria:\n",
        "    def __init__(self):\n",
        "        self.raiz = None\n",
        "\n",
        "    # Función para insertar un nuevo nodo en el árbol\n",
        "    def insertar(self, valor):\n",
        "        if self.raiz is None:\n",
        "            self.raiz = Nodo(valor)\n",
        "        else:\n",
        "            self._insertar_recursivo(self.raiz, valor)\n",
        "\n",
        "    # Función recursiva auxiliar para la inserción\n",
        "    def _insertar_recursivo(self, nodo, valor):\n",
        "        if valor < nodo.valor:\n",
        "            if nodo.izquierda is None:\n",
        "                nodo.izquierda = Nodo(valor)\n",
        "            else:\n",
        "                self._insertar_recursivo(nodo.izquierda, valor)\n",
        "        else:\n",
        "            if nodo.derecha is None:\n",
        "                nodo.derecha = Nodo(valor)\n",
        "            else:\n",
        "                self._insertar_recursivo(nodo.derecha, valor)\n",
        "\n",
        "    # Recorrido en orden (in-order)\n",
        "    def en_orden(self):\n",
        "        elementos = []\n",
        "        self._en_orden_recursivo(self.raiz, elementos)\n",
        "        return elementos\n",
        "\n",
        "    def _en_orden_recursivo(self, nodo, elementos):\n",
        "        if nodo:\n",
        "            self._en_orden_recursivo(nodo.izquierda, elementos)\n",
        "            elementos.append(nodo.valor)\n",
        "            self._en_orden_recursivo(nodo.derecha, elementos)\n",
        "\n",
        "    # Recorrido en preorden (pre-order)\n",
        "    def pre_orden(self):\n",
        "        elementos = []\n",
        "        self._pre_orden_recursivo(self.raiz, elementos)\n",
        "        return elementos\n",
        "\n",
        "    def _pre_orden_recursivo(self, nodo, elementos):\n",
        "        if nodo:\n",
        "            elementos.append(nodo.valor)\n",
        "            self._pre_orden_recursivo(nodo.izquierda, elementos)\n",
        "            self._pre_orden_recursivo(nodo.derecha, elementos)\n",
        "\n",
        "    # Recorrido en postorden (post-order)\n",
        "    def post_orden(self):\n",
        "        elementos = []\n",
        "        self._post_orden_recursivo(self.raiz, elementos)\n",
        "        return elementos\n",
        "\n",
        "    def _post_orden_recursivo(self, nodo, elementos):\n",
        "        if nodo:\n",
        "            self._post_orden_recursivo(nodo.izquierda, elementos)\n",
        "            self._post_orden_recursivo(nodo.derecha, elementos)\n",
        "            elementos.append(nodo.valor)\n",
        "\n",
        "# Crear el árbol de búsqueda binaria e insertar los elementos\n",
        "conjunto_A = [21, 14, 2, 11, 7, 20, 13, 30, 18, 5, 6, 29, 12, 27, 4, 28, 10, 15, 22, 1, 19, 3]\n",
        "arbol = ArbolBusquedaBinaria()\n",
        "\n",
        "for elemento in conjunto_A:\n",
        "    arbol.insertar(elemento)\n",
        "\n",
        "# Mostrar los elementos en los tres tipos de recorrido\n",
        "print(\"Elementos en orden (in-order):\", arbol.en_orden())\n",
        "print(\"Elementos en preorden (pre-order):\", arbol.pre_orden())\n",
        "print(\"Elementos en postorden (post-order):\", arbol.post_orden())\n"
      ]
    },
    {
      "cell_type": "markdown",
      "source": [
        "- Cree un arbol B+ (m=5) con los elementos del conjunto A."
      ],
      "metadata": {
        "id": "s7zeTDtEJf2c"
      }
    },
    {
      "cell_type": "markdown",
      "source": [
        "A = {21,14,2,11,7,20,13,30,18,5,6,29,12,27,4,28,10,15,22,1,19,3}"
      ],
      "metadata": {
        "id": "0vLawM82KKUU"
      }
    },
    {
      "cell_type": "code",
      "source": [
        "class NodoBMas:\n",
        "    def __init__(self, es_hoja=False):\n",
        "        self.es_hoja = es_hoja\n",
        "        self.claves = []\n",
        "        self.hijos = []\n",
        "\n",
        "class ArbolBMas:\n",
        "    def __init__(self, orden):\n",
        "        self.raiz = NodoBMas(es_hoja=True)\n",
        "        self.orden = orden\n",
        "\n",
        "    def dividir_nodo(self, nodo, indice_padre, padre):\n",
        "        nuevo_nodo = NodoBMas(es_hoja=nodo.es_hoja)\n",
        "        medio = len(nodo.claves) // 2\n",
        "        clave_mediana = nodo.claves[medio]\n",
        "\n",
        "        nuevo_nodo.claves = nodo.claves[medio + 1:]\n",
        "        nodo.claves = nodo.claves[:medio]\n",
        "\n",
        "        if not nodo.es_hoja:\n",
        "            nuevo_nodo.hijos = nodo.hijos[medio + 1:]\n",
        "            nodo.hijos = nodo.hijos[:medio + 1]\n",
        "\n",
        "        if padre:\n",
        "            padre.claves.insert(indice_padre, clave_mediana)\n",
        "            padre.hijos.insert(indice_padre + 1, nuevo_nodo)\n",
        "        else:\n",
        "            nueva_raiz = NodoBMas()\n",
        "            nueva_raiz.claves = [clave_mediana]\n",
        "            nueva_raiz.hijos = [nodo, nuevo_nodo]\n",
        "            self.raiz = nueva_raiz\n",
        "\n",
        "    def insertar(self, clave):\n",
        "        nodo = self.raiz\n",
        "        padre = None\n",
        "        indice_padre = -1\n",
        "\n",
        "        while not nodo.es_hoja:\n",
        "            indice_padre = self._encontrar_indice(nodo.claves, clave)\n",
        "            padre = nodo\n",
        "            nodo = nodo.hijos[indice_padre]\n",
        "\n",
        "        nodo.claves.append(clave)\n",
        "        nodo.claves.sort()\n",
        "\n",
        "        if len(nodo.claves) >= self.orden:\n",
        "            self.dividir_nodo(nodo, indice_padre, padre)\n",
        "\n",
        "    def _encontrar_indice(self, claves, clave):\n",
        "        for i, item in enumerate(claves):\n",
        "            if clave < item:\n",
        "                return i\n",
        "        return len(claves)\n",
        "\n",
        "    def obtener_hojas(self):\n",
        "        nodo = self.raiz\n",
        "        while not nodo.es_hoja:\n",
        "            nodo = nodo.hijos[0]\n",
        "\n",
        "        hojas = []\n",
        "        while nodo:\n",
        "            hojas.extend(nodo.claves)\n",
        "            nodo = nodo.hijos[-1] if nodo.hijos else None\n",
        "        return hojas\n",
        "\n",
        "    # Recorrido pre-order de los nodos internos (incluye todos los niveles)\n",
        "    def pre_order(self):\n",
        "        resultado = []\n",
        "        self._pre_order_recursivo(self.raiz, resultado)\n",
        "        return resultado\n",
        "\n",
        "    def _pre_order_recursivo(self, nodo, resultado):\n",
        "        if nodo:\n",
        "            resultado.append(nodo.claves)\n",
        "            if not nodo.es_hoja:\n",
        "                for hijo in nodo.hijos:\n",
        "                    self._pre_order_recursivo(hijo, resultado)\n",
        "\n",
        "    # Recorrido post-order de los nodos internos (incluye todos los niveles)\n",
        "    def post_order(self):\n",
        "        resultado = []\n",
        "        self._post_order_recursivo(self.raiz, resultado)\n",
        "        return resultado\n",
        "\n",
        "    def _post_order_recursivo(self, nodo, resultado):\n",
        "        if nodo:\n",
        "            if not nodo.es_hoja:\n",
        "                for hijo in nodo.hijos:\n",
        "                    self._post_order_recursivo(hijo, resultado)\n",
        "            resultado.append(nodo.claves)\n",
        "\n",
        "# Crear el árbol B+ e insertar los elementos\n",
        "conjunto_A = [21, 14, 2, 11, 7, 20, 13, 30, 18, 5, 6, 29, 12, 27, 4, 28, 10, 15, 22, 1, 19, 3]\n",
        "arbol_bmas = ArbolBMas(orden=5)\n",
        "\n",
        "for elemento in conjunto_A:\n",
        "    arbol_bmas.insertar(elemento)\n",
        "\n",
        "# Mostrar los elementos en las hojas en orden\n",
        "print(\"Elementos en el árbol B+ en orden (hojas):\", arbol_bmas.obtener_hojas())\n",
        "\n",
        "# Mostrar los recorridos pre-order y post-order\n",
        "pre_order_result = arbol_bmas.pre_order()\n",
        "post_order_result = arbol_bmas.post_order()\n",
        "\n",
        "if pre_order_result != post_order_result:\n",
        "    print(\"Recorrido pre-order (nodos internos):\", pre_order_result)\n",
        "    print(\"Recorrido post-order (nodos internos):\", post_order_result)\n",
        "else:\n",
        "    print(\"El pre-order y el post-order son iguales.\")\n"
      ],
      "metadata": {
        "colab": {
          "base_uri": "https://localhost:8080/"
        },
        "id": "RGIrBStJJgLM",
        "outputId": "366b1d5c-b3dd-4dad-cf66-e05671211263"
      },
      "execution_count": 6,
      "outputs": [
        {
          "output_type": "stream",
          "name": "stdout",
          "text": [
            "Elementos en el árbol B+ en orden (hojas): [1, 2, 3, 4]\n",
            "Recorrido pre-order (nodos internos): [[5, 11, 14, 20, 28], [1, 2, 3, 4], [6, 7, 10], [12, 13], [15, 18, 19], [21, 22, 27], [29, 30]]\n",
            "Recorrido post-order (nodos internos): [[1, 2, 3, 4], [6, 7, 10], [12, 13], [15, 18, 19], [21, 22, 27], [29, 30], [5, 11, 14, 20, 28]]\n"
          ]
        }
      ]
    }
  ]
}