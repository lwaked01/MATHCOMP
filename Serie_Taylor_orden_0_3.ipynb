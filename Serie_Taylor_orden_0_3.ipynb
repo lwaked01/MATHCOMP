{
  "nbformat": 4,
  "nbformat_minor": 0,
  "metadata": {
    "colab": {
      "provenance": []
    },
    "kernelspec": {
      "name": "python3",
      "display_name": "Python 3"
    },
    "language_info": {
      "name": "python"
    }
  },
  "cells": [
    {
      "cell_type": "markdown",
      "source": [
        "Use la expansion de la serie de Taylor desde cero hasta tercer orden"
      ],
      "metadata": {
        "id": "f4L2WnP1JMWr"
      }
    },
    {
      "cell_type": "code",
      "execution_count": 6,
      "metadata": {
        "colab": {
          "base_uri": "https://localhost:8080/"
        },
        "id": "w2W0qgAkIUDd",
        "outputId": "1b0a6336-bee9-4b14-f6db-7842c8711a53"
      },
      "outputs": [
        {
          "output_type": "stream",
          "name": "stdout",
          "text": [
            "Ejercicio 1:\n",
            "Aproximación de f(0.6) usando la serie de Taylor hasta tercer orden: -3.53840000000000\n",
            "\n",
            "Ejercicio 2:\n",
            "Aproximación de f(0.45) usando la serie de Taylor hasta tercer orden: 3.36929886892254\n"
          ]
        }
      ],
      "source": [
        "import sympy as sp\n",
        "\n",
        "# Definir la variable simbólica\n",
        "x = sp.symbols('x')\n",
        "\n",
        "# Ejercicio 1\n",
        "# Definir la función f(x) para el primer caso\n",
        "f1 = 1.1 * x**3 - 1.6 * x**2 + 3 * x - 5\n",
        "a1 = 0.5  # Punto base\n",
        "h1 = 0.6 - a1  # Distancia entre el punto de evaluación y el punto base\n",
        "\n",
        "# Calcular f(a), f'(a), f''(a), f'''(a) para el primer caso\n",
        "f1_a1 = f1.subs(x, a1)\n",
        "f1_prime = sp.diff(f1, x).subs(x, a1)\n",
        "f1_double_prime = sp.diff(f1, x, 2).subs(x, a1)\n",
        "f1_triple_prime = sp.diff(f1, x, 3).subs(x, a1)\n",
        "\n",
        "# Aproximación de Taylor de orden cero hasta tercer orden para f1\n",
        "taylor_approx_f1 = f1_a1 + f1_prime * h1 + (f1_double_prime / 2) * h1**2 + (f1_triple_prime / 6) * h1**3\n",
        "\n",
        "# Ejercicio 2\n",
        "# Definir la función f(x) para el segundo caso\n",
        "f2 = 1.6 * sp.exp(x) - 4.2 * x + 2.75\n",
        "a2 = 0.4  # Punto base\n",
        "h2 = 0.45 - a2  # Distancia entre el punto de evaluación y el punto base\n",
        "\n",
        "# Calcular f(a), f'(a), f''(a), f'''(a) para el segundo caso\n",
        "f2_a2 = f2.subs(x, a2)\n",
        "f2_prime = sp.diff(f2, x).subs(x, a2)\n",
        "f2_double_prime = sp.diff(f2, x, 2).subs(x, a2)\n",
        "f2_triple_prime = sp.diff(f2, x, 3).subs(x, a2)\n",
        "\n",
        "# Aproximación de Taylor de orden cero hasta tercer orden para f2\n",
        "taylor_approx_f2 = f2_a2 + f2_prime * h2 + (f2_double_prime / 2) * h2**2 + (f2_triple_prime / 6) * h2**3\n",
        "\n",
        "# Mostrar resultados\n",
        "print(\"Ejercicio 1:\")\n",
        "print(f\"Aproximación de f(0.6) usando la serie de Taylor hasta tercer orden: {taylor_approx_f1.evalf()}\")\n",
        "\n",
        "print(\"\\nEjercicio 2:\")\n",
        "print(f\"Aproximación de f(0.45) usando la serie de Taylor hasta tercer orden: {taylor_approx_f2.evalf()}\")\n"
      ]
    }
  ]
}