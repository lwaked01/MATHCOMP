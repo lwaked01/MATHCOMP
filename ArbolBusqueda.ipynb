{
  "nbformat": 4,
  "nbformat_minor": 0,
  "metadata": {
    "colab": {
      "provenance": []
    },
    "kernelspec": {
      "name": "python3",
      "display_name": "Python 3"
    },
    "language_info": {
      "name": "python"
    }
  },
  "cells": [
    {
      "cell_type": "code",
      "execution_count": 2,
      "metadata": {
        "colab": {
          "base_uri": "https://localhost:8080/"
        },
        "id": "5pjzfu1RCyYo",
        "outputId": "791fc0b0-caeb-4e57-dbe8-b4897402150e"
      },
      "outputs": [
        {
          "output_type": "stream",
          "name": "stdout",
          "text": [
            "Recorrido Inorder:\n",
            "1 4 5 6 8 9 \n",
            "Recorrido Preorder:\n",
            "6 4 1 5 8 9 \n",
            "Recorrido Postorder:\n",
            "1 5 4 9 8 6 "
          ]
        }
      ],
      "source": [
        "class Nodo:\n",
        "    def __init__(self, clave):\n",
        "        self.izquierda = None\n",
        "        self.derecha = None\n",
        "        self.clave = clave\n",
        "\n",
        "class Arbol:\n",
        "    def __init__(self):\n",
        "        self.raiz = None\n",
        "\n",
        "    def insertar(self, clave):\n",
        "        if self.raiz is None:\n",
        "            self.raiz = Nodo(clave)\n",
        "        else:\n",
        "            self.insertar_recursivo(self.raiz, clave)\n",
        "\n",
        "    def insertar_recursivo(self, nodo, clave):\n",
        "        if clave < nodo.clave:      # comparar el nodo a insertar con el nodo actual\n",
        "            if nodo.izquierda is None: # si el nodo izquiero no existe se inserta ahi\n",
        "                nodo.izquierda = Nodo(clave)\n",
        "            else:\n",
        "                self.insertar_recursivo(nodo.izquierda, clave) # si no la se vulve a llamar a la funcion\n",
        "        else:\n",
        "            if nodo.derecha is None:\n",
        "                nodo.derecha = Nodo(clave)\n",
        "            else:\n",
        "                self.insertar_recursivo(nodo.derecha, clave)\n",
        "\n",
        "    def inorder(self, nodo):\n",
        "        if nodo:\n",
        "            self.inorder(nodo.izquierda)\n",
        "            print(nodo.clave, end=' ')\n",
        "            self.inorder(nodo.derecha)\n",
        "\n",
        "    def preorder(self, nodo):\n",
        "        if nodo:\n",
        "            print(nodo.clave, end=' ')\n",
        "            self.preorder(nodo.izquierda)\n",
        "            self.preorder(nodo.derecha)\n",
        "\n",
        "    def postorder(self, nodo):\n",
        "        if nodo:\n",
        "            self.postorder(nodo.izquierda)\n",
        "            self.postorder(nodo.derecha)\n",
        "            print(nodo.clave, end=' ')\n",
        "\n",
        "\n",
        "arbol = Arbol()\n",
        "numeros = [6,4,1,8,5,9]\n",
        "\n",
        "for num in numeros:\n",
        "    arbol.insertar(num)\n",
        "\n",
        "print(\"Recorrido Inorder:\")\n",
        "arbol.inorder(arbol.raiz)\n",
        "\n",
        "print(\"\\nRecorrido Preorder:\")\n",
        "arbol.preorder(arbol.raiz)\n",
        "\n",
        "print(\"\\nRecorrido Postorder:\")\n",
        "arbol.postorder(arbol.raiz)\n"
      ]
    }
  ]
}