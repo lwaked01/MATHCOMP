{
  "nbformat": 4,
  "nbformat_minor": 0,
  "metadata": {
    "colab": {
      "provenance": []
    },
    "kernelspec": {
      "name": "python3",
      "display_name": "Python 3"
    },
    "language_info": {
      "name": "python"
    }
  },
  "cells": [
    {
      "cell_type": "code",
      "execution_count": 1,
      "metadata": {
        "colab": {
          "base_uri": "https://localhost:8080/"
        },
        "id": "jbmB3DGr72Zt",
        "outputId": "90427f85-b121-48fb-e668-703132752b4f"
      },
      "outputs": [
        {
          "output_type": "stream",
          "name": "stdout",
          "text": [
            "Soluciones:\n",
            "x1 = 3.5\n",
            "x2 = 1.0\n",
            "x3 = -1.0\n"
          ]
        }
      ],
      "source": [
        "import numpy as np\n",
        "\n",
        "# Definir la matriz aumentada del sistema de ecuaciones\n",
        "A = np.array([\n",
        "    [1, 0, 1, 2.5],\n",
        "    [3, 4, 3, 11.5],\n",
        "    [4, 1, 0, 15]\n",
        "], dtype=float)\n",
        "\n",
        "# Función para aplicar el método de Gauss-Jordan\n",
        "def gauss_jordan(A):\n",
        "    n = len(A)\n",
        "\n",
        "    for i in range(n):\n",
        "        # Hacer que el elemento A[i][i] sea 1\n",
        "        A[i] = A[i] / A[i][i]\n",
        "\n",
        "        # Hacer ceros en las demás posiciones de la columna\n",
        "        for j in range(n):\n",
        "            if i != j:\n",
        "                A[j] = A[j] - A[j][i] * A[i]\n",
        "\n",
        "    return A\n",
        "\n",
        "# Aplicar Gauss-Jordan a la matriz aumentada\n",
        "solucion = gauss_jordan(A)\n",
        "\n",
        "# Imprimir las soluciones\n",
        "print(\"Soluciones:\")\n",
        "for i in range(len(solucion)):\n",
        "    print(f\"x{i+1} = {solucion[i][-1]}\")\n"
      ]
    }
  ]
}