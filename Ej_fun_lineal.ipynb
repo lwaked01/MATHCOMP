{
  "nbformat": 4,
  "nbformat_minor": 0,
  "metadata": {
    "colab": {
      "provenance": []
    },
    "kernelspec": {
      "name": "python3",
      "display_name": "Python 3"
    },
    "language_info": {
      "name": "python"
    }
  },
  "cells": [
    {
      "cell_type": "markdown",
      "source": [
        "Cree un programa que ajuste a una función lineal en dos dimensiones los datos dadtos en la tabla. El programa debe calcular además el coeficiente de correlación"
      ],
      "metadata": {
        "id": "gMRZl5qA_Y7Z"
      }
    },
    {
      "cell_type": "code",
      "execution_count": 7,
      "metadata": {
        "colab": {
          "base_uri": "https://localhost:8080/"
        },
        "id": "e5EsYEpt-KiA",
        "outputId": "6666986b-27e9-482f-92ef-1573c94c9d66"
      },
      "outputs": [
        {
          "output_type": "stream",
          "name": "stdout",
          "text": [
            "Intercepto: 2.09811320754717\n",
            "Coeficiente para x_combinada: -0.0754716981132076\n",
            "\n",
            "Coeficiente de correlación entre x_combinada & y: -0.109976467553646\n"
          ]
        }
      ],
      "source": [
        "import numpy as np\n",
        "import pandas as pd\n",
        "from sklearn.linear_model import LinearRegression\n",
        "from scipy.stats import pearsonr\n",
        "\n",
        "data = {\n",
        "    'x1': [1, 1, 2, 3, 1, 2, 3, 3],\n",
        "    'x2': [-1, 0, 0, 1, 1, 2, 2, 0],\n",
        "    'y': [1.6, 3, 1.1, 1.2, 3.2, 3.3, 1.7, 0.1]\n",
        "}\n",
        "\n",
        "# Crear un DataFrame\n",
        "df = pd.DataFrame(data)\n",
        "\n",
        "# Crear una nueva variable independiente como combinación lineal de x1 y x2\n",
        "df['x_combined'] = df['x1'] + df['x2']  # Puedes ajustar el peso si es necesario\n",
        "\n",
        "# Definir la variable independiente combinada y dependiente\n",
        "X = df[['x_combined']]\n",
        "y = df['y']\n",
        "\n",
        "# Ajuste de la regresión lineal en dos dimensiones (usando x_combined)\n",
        "model = LinearRegression()\n",
        "model.fit(X, y)\n",
        "\n",
        "# Coeficientes de la regresión\n",
        "print(\"Intercepto:\", model.intercept_)\n",
        "print(\"Coeficiente para x_combinada:\", model.coef_[0])\n",
        "\n",
        "# Calcular el coeficiente de correlación entre x_combined y y\n",
        "corr_x_combined_y, _ = pearsonr(df['x_combined'], df['y'])\n",
        "\n",
        "print(\"\\nCoeficiente de correlación entre x_combinada & y:\", corr_x_combined_y)\n"
      ]
    }
  ]
}