{
  "nbformat": 4,
  "nbformat_minor": 0,
  "metadata": {
    "colab": {
      "provenance": []
    },
    "kernelspec": {
      "name": "python3",
      "display_name": "Python 3"
    },
    "language_info": {
      "name": "python"
    }
  },
  "cells": [
    {
      "cell_type": "code",
      "execution_count": 3,
      "metadata": {
        "colab": {
          "base_uri": "https://localhost:8080/"
        },
        "id": "jMXe6K8FNv_3",
        "outputId": "19421fe0-22bb-411a-cad2-ceedc66bacff"
      },
      "outputs": [
        {
          "output_type": "stream",
          "name": "stdout",
          "text": [
            "Approximated e^0.5 with Maclaurin series: 1.6458333333333333\n",
            "Exact value of e^0.5: 1.6487212707001282\n",
            "Number of terms used: 4\n",
            "Approximation error: 0.002887937366794935\n"
          ]
        }
      ],
      "source": [
        "import math\n",
        "\n",
        "\n",
        "x = 0.5\n",
        "tolerancia = 0.05\n",
        "approximacion = 0\n",
        "n = 0\n",
        "termino = 1\n",
        "\n",
        "\n",
        "while abs(termino) > tolerancia:\n",
        "    termino = (x**n) / math.factorial(n)\n",
        "    approximacion += termino\n",
        "    n += 1\n",
        "\n",
        "\n",
        "exact_value = math.exp(x)\n",
        "\n",
        "\n",
        "print(f\"Approximated e^{x} with Maclaurin series: {approximacion}\")\n",
        "print(f\"Exact value of e^{x}: {exact_value}\")\n",
        "print(f\"Number of terms used: {n}\")\n",
        "print(f\"Approximation error: {abs(exact_value - approximacion)}\")"
      ]
    }
  ]
}