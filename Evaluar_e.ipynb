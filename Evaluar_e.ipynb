{
  "nbformat": 4,
  "nbformat_minor": 0,
  "metadata": {
    "colab": {
      "provenance": []
    },
    "kernelspec": {
      "name": "python3",
      "display_name": "Python 3"
    },
    "language_info": {
      "name": "python"
    }
  },
  "cells": [
    {
      "cell_type": "markdown",
      "source": [
        "Calcular el valor para cada ecuacion con 8 cifras significativas, el error aproximado relativo porcentual y el numero de iteraciones"
      ],
      "metadata": {
        "id": "f4L2WnP1JMWr"
      }
    },
    {
      "cell_type": "code",
      "execution_count": 1,
      "metadata": {
        "colab": {
          "base_uri": "https://localhost:8080/"
        },
        "id": "w2W0qgAkIUDd",
        "outputId": "9bdf2ae4-a2f5-42d3-c4ab-a4c2280cf2ec"
      },
      "outputs": [
        {
          "output_type": "stream",
          "name": "stdout",
          "text": [
            "Resultados utilizando la serie de Taylor directa para e^(-x):\n",
            "Valor aproximado: 0.42741493\n",
            "Error aproximado relativo porcentual: 0.00000000%\n",
            "Número de iteraciones: 13\n",
            "\n",
            "Resultados utilizando la serie de Taylor del inverso de e^x:\n",
            "Valor aproximado: 0.42741493\n",
            "Error aproximado relativo porcentual: 0.00000000%\n",
            "Número de iteraciones: 13\n"
          ]
        }
      ],
      "source": [
        "import math\n",
        "\n",
        "def taylor_series_exp_neg(x, tol=1e-8):\n",
        "    # Calcular e^(-x) utilizando la primera serie de Taylor\n",
        "    sum_approx = 1  # Inicializar con el primer término\n",
        "    term = 1        # Primer término de la serie\n",
        "    n = 0           # Número de iteraciones\n",
        "    error = float('inf')\n",
        "\n",
        "    while abs(error) > tol:\n",
        "        n += 1\n",
        "        term *= -x / n  # Calcular el siguiente término\n",
        "        new_approx = sum_approx + term\n",
        "        error = (new_approx - sum_approx) / new_approx * 100  # Error porcentual relativo\n",
        "        sum_approx = new_approx\n",
        "\n",
        "    return sum_approx, abs(error), n\n",
        "\n",
        "def taylor_series_reciprocal_exp(x, tol=1e-8):\n",
        "    # Calcular e^(-x) utilizando la serie del inverso de e^x\n",
        "    sum_approx = 1  # Inicializar con el primer término\n",
        "    term = 1        # Primer término de la serie\n",
        "    n = 0           # Número de iteraciones\n",
        "    error = float('inf')\n",
        "\n",
        "    while abs(error) > tol:\n",
        "        n += 1\n",
        "        term *= x / n  # Calcular el siguiente término\n",
        "        new_approx = sum_approx + term\n",
        "        error = (new_approx - sum_approx) / new_approx * 100  # Error porcentual relativo\n",
        "        sum_approx = new_approx\n",
        "\n",
        "    # Invertir el resultado para obtener 1 / e^x\n",
        "    result = 1 / sum_approx\n",
        "    return result, abs(error), n\n",
        "\n",
        "# Definir el valor de x\n",
        "x = 0.85\n",
        "\n",
        "# Calcular e^(-0.85) utilizando ambas series\n",
        "taylor_result, taylor_error, taylor_iters = taylor_series_exp_neg(x)\n",
        "reciprocal_result, reciprocal_error, reciprocal_iters = taylor_series_reciprocal_exp(x)\n",
        "\n",
        "# Imprimir los resultados\n",
        "print(\"Resultados utilizando la serie de Taylor directa para e^(-x):\")\n",
        "print(f\"Valor aproximado: {taylor_result:.8f}\")\n",
        "print(f\"Error aproximado relativo porcentual: {taylor_error:.8f}%\")\n",
        "print(f\"Número de iteraciones: {taylor_iters}\\n\")\n",
        "\n",
        "print(\"Resultados utilizando la serie de Taylor del inverso de e^x:\")\n",
        "print(f\"Valor aproximado: {reciprocal_result:.8f}\")\n",
        "print(f\"Error aproximado relativo porcentual: {reciprocal_error:.8f}%\")\n",
        "print(f\"Número de iteraciones: {reciprocal_iters}\")\n"
      ]
    }
  ]
}