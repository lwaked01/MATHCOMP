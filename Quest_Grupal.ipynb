{
  "nbformat": 4,
  "nbformat_minor": 0,
  "metadata": {
    "colab": {
      "provenance": []
    },
    "kernelspec": {
      "name": "python3",
      "display_name": "Python 3"
    },
    "language_info": {
      "name": "python"
    }
  },
  "cells": [
    {
      "cell_type": "markdown",
      "source": [
        "# Integrantes de grupo:\n",
        "- Leonardo Waked Guerrero\n",
        "- David Chia\n",
        "- Jason Salcedo"
      ],
      "metadata": {
        "id": "Kumkx6j3wh4u"
      }
    },
    {
      "cell_type": "markdown",
      "source": [
        "# Tamaños de bits"
      ],
      "metadata": {
        "id": "egomFOVEvGTO"
      }
    },
    {
      "cell_type": "markdown",
      "source": [
        "| **Tamaño de Palabra** | **Número de Bits** | **Número de Bytes** | **Rango Decimal**                                    | **Ejemplos de Uso**                                         |\n",
        "|-----------------------|--------------------|---------------------|------------------------------------------------------|------------------------------------------------------------|\n",
        "| **Nibble**            | 4                  | 0.5                 | 0 a 15                                               | Representación hexadecimal, codificación de datos.         |\n",
        "| **Byte**              | 8                  | 1                   | 0 a 255                                              | Almacenamiento básico, comunicación serial.                |\n",
        "| **Half Word**         | 16                 | 2                   | 0 a 65,535                                           | Arquitecturas de 16 bits, sistemas embebidos.              |\n",
        "| **Word**              | 32                 | 4                   | 0 a 4,294,967,295                                    | Arquitecturas de 32 bits, sistemas operativos.             |\n",
        "| **Double Word**       | 64                 | 8                   | 0 a 18,446,744,073,855                               | Arquitecturas de 64 bits, aplicaciones de alta precisión.   |\n",
        "| **Quad Word**         | 128                | 16                  | 0 a 340,282,366,920,938,463,374,607,431,768,211,455 | Criptografía, operaciones de alta precisión.               |\n",
        "| **Octa Word**         | 256                | 32                  | 0 a 1.1579209 x 10^77                                | Computación avanzada, aplicaciones especializadas.         |\n",
        "| **Hexa Word**         | 512                | 64                  | 0 a 1.34078079 x 10^154                             | Aplicaciones altamente especializadas, grandes bases de datos. |\n",
        "| **Deca Word**         | 1024               | 128                 | 0 a 1.34078079 x 10^308                             | Procesamiento de datos extremadamente grandes.            |\n",
        "| **Peta Word**         | 2048               | 256                 | 0 a 1.1579209 x 10^308                              | Usado en algunos cálculos científicos y de datos masivos.   |\n",
        "| **Exa Word**          | 4096               | 512                 | 0 a 1.34078079 x 10^308                             | Usado en investigaciones avanzadas y simulaciones complejas. |\n",
        "| **Zetta Word**        | 8192               | 1024                | 0 a 1.34078079 x 10^308                             | Procesamiento de datos a gran escala, simulaciones muy grandes. |\n",
        "| **Yotta Word**        | 16384              | 2048                | 0 a 1.34078079 x 10^308                             | Aplicaciones en computación extrema, teoría de la información. |\n",
        "| **Ronna Word**        | 32768              | 4096                | 0 a 1.34078079 x 10^308                             | Conceptual, exploraciones teóricas en almacenamiento y computación. |\n",
        "| **Quetta Word**       | 65536              | 8192                | 0 a 1.34078079 x 10^308                             | Conceptual, para futuros avances en computación de datos.   |\n"
      ],
      "metadata": {
        "id": "QJVga5ODvcXF"
      }
    },
    {
      "cell_type": "markdown",
      "source": [
        "### Referencias\n",
        "\n",
        "La información sobre los tamaños de palabra y conceptos teóricos fue proporcionada por ChatGPT, un modelo de lenguaje desarrollado por OpenAI. ChatGPT es una herramienta que ofrece asistencia en la generación de texto y la respuesta a preguntas basadas en una amplia gama de datos.\n",
        "\n",
        "- **Modelo Utilizado:** ChatGPT\n",
        "- **Desarrollador:** OpenAI\n",
        "- **Enlace para Más Información:** [OpenAI ChatGPT](https://www.openai.com/chatgpt)\n",
        "\n",
        "Para detalles adicionales y consulta sobre los temas discutidos, por favor visita el sitio web de [OpenAI](https://www.openai.com).\n"
      ],
      "metadata": {
        "id": "dmIRONF6wJj-"
      }
    },
    {
      "cell_type": "markdown",
      "source": [
        "# Sistemas diferentes"
      ],
      "metadata": {
        "id": "WUyyfXuZvlGW"
      }
    },
    {
      "cell_type": "markdown",
      "source": [
        "| Sistema                     | Half Word | Word     | Double Word | Quad Word | Otros tamaños           |\n",
        "|-----------------------------|-----------|----------|-------------|-----------|-------------------------|\n",
        "| x86 (32-bit)                | 16 bits   | 32 bits  | 64 bits     | 128 bits  | Byte: 8 bits            |\n",
        "| x86-64 (64-bit)             | 32 bits   | 64 bits  | 128 bits    | 256 bits  | Byte: 8 bits            |\n",
        "| ARM (32-bit)                | 16 bits   | 32 bits  | 64 bits     | 128 bits  | Byte: 8 bits            |\n",
        "| ARM64 (64-bit)              | 32 bits   | 64 bits  | 128 bits    | 256 bits  | Byte: 8 bits            |\n",
        "| MIPS (32-bit)               | 16 bits   | 32 bits  | 64 bits     | 128 bits  | Byte: 8 bits            |\n",
        "| MIPS64 (64-bit)             | 32 bits   | 64 bits  | 128 bits    | 256 bits  | Byte: 8 bits            |\n",
        "| PowerPC (32-bit)            | 16 bits   | 32 bits  | 64 bits     | 128 bits  | Byte: 8 bits            |\n",
        "| PowerPC64 (64-bit)          | 32 bits   | 64 bits  | 128 bits    | 256 bits  | Byte: 8 bits            |\n",
        "| SPARC (32-bit)              | 16 bits   | 32 bits  | 64 bits     | 128 bits  | Byte: 8 bits            |\n",
        "| SPARC64 (64-bit)            | 32 bits   | 64 bits  | 128 bits    | 256 bits  | Byte: 8 bits            |\n",
        "| Itanium (IA-64)             | 32 bits   | 64 bits  | 128 bits    | 256 bits  | Byte: 8 bits            |\n",
        "| Alpha                       | 32 bits   | 64 bits  | 128 bits    | 256 bits  | Byte: 8 bits            |\n",
        "| PA-RISC                     | 16 bits   | 32 bits  | 64 bits     | 128 bits  | Byte: 8 bits            |\n",
        "| System/360                  | 16 bits   | 32 bits  | 64 bits     | N/A       | Byte: 8 bits            |\n",
        "| CDC 6000 Series             | 15 bits   | 60 bits  | N/A         | N/A       | Byte: 6 bits            |\n",
        "| Cray-1                      | 32 bits   | 64 bits  | N/A         | N/A       | Byte: 8 bits            |\n",
        "| PDP-11                      | 8 bits    | 16 bits  | 32 bits     | N/A       | Byte: 8 bits            |\n",
        "| VAX                         | 16 bits   | 32 bits  | 64 bits     | N/A       | Byte: 8 bits            |\n",
        "| IBM z/Architecture          | 16 bits   | 32 bits  | 64 bits     | 128 bits  | Byte: 8 bits            |\n",
        "| RISC-V (base 32-bit)        | 16 bits   | 32 bits  | 64 bits     | 128 bits  | Byte: 8 bits            |"
      ],
      "metadata": {
        "id": "WmTtzlA-vz4G"
      }
    },
    {
      "cell_type": "markdown",
      "source": [
        "## Referencias\n",
        "\n",
        "Claude. (2024). Cuadro comparativo de tamaños de palabras en diferentes sistemas [Tabla de datos]. Conversación con un asistente de IA de Anthropic, 13 de septiembre de 2024."
      ],
      "metadata": {
        "id": "6wY06MwawZ-1"
      }
    }
  ]
}