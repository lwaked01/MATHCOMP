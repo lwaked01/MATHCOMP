{
  "nbformat": 4,
  "nbformat_minor": 0,
  "metadata": {
    "colab": {
      "provenance": []
    },
    "kernelspec": {
      "name": "python3",
      "display_name": "Python 3"
    },
    "language_info": {
      "name": "python"
    }
  },
  "cells": [
    {
      "cell_type": "markdown",
      "source": [
        "Utiliza la serie de Taylor de orden cero a orden dos y calcular la aproximacion de la funcio"
      ],
      "metadata": {
        "id": "f4L2WnP1JMWr"
      }
    },
    {
      "cell_type": "code",
      "execution_count": 3,
      "metadata": {
        "colab": {
          "base_uri": "https://localhost:8080/"
        },
        "id": "w2W0qgAkIUDd",
        "outputId": "6f1dc180-c7e8-4a33-937f-4361877a89ab"
      },
      "outputs": [
        {
          "output_type": "stream",
          "name": "stdout",
          "text": [
            "Aproximaciones de la función f(x) = x^4 en x + h usando la serie de Taylor:\n",
            "\n",
            "Orden cero: f(x+h) ≈ 1\n",
            "Orden uno: f(x+h) ≈ 1.50000000000000\n",
            "Orden dos: f(x+h) ≈ 1.59375000000000\n",
            "\n",
            "Residuo R_2 (evaluado con c ≈ 1):\n",
            "R_2 ≈ 0.00781250000000000\n"
          ]
        }
      ],
      "source": [
        "import sympy as sp\n",
        "\n",
        "# Definir la variable y la función\n",
        "x = sp.symbols('x')\n",
        "f = x**4\n",
        "\n",
        "# Valores dados\n",
        "a = 1  # valor de x\n",
        "h = 0.125  # incremento h\n",
        "\n",
        "# Calcular f(a), f'(a), f''(a) y f'''(c)\n",
        "f_a = f.subs(x, a)  # Orden cero\n",
        "f_prime = sp.diff(f, x).subs(x, a)  # Primera derivada en a (Orden uno)\n",
        "f_double_prime = sp.diff(f, x, 2).subs(x, a)  # Segunda derivada en a (Orden dos)\n",
        "f_triple_prime = sp.diff(f, x, 3).subs(x, a)  # Tercera derivada en a (para el residuo)\n",
        "\n",
        "# Calcular la aproximación de Taylor en orden cero, uno y dos\n",
        "taylor_order_0 = f_a\n",
        "taylor_order_1 = f_a + f_prime * h\n",
        "taylor_order_2 = f_a + f_prime * h + (f_double_prime / 2) * h**2\n",
        "\n",
        "# Calcular el residuo R_2\n",
        "R2 = (f_triple_prime / 6) * h**3  # Usando c ≈ a para simplificar\n",
        "\n",
        "# Mostrar resultados\n",
        "print(\"Aproximaciones de la función f(x) = x^4 en x + h usando la serie de Taylor:\")\n",
        "\n",
        "print(f\"\\nOrden cero: f(x+h) ≈ {taylor_order_0}\")\n",
        "print(f\"Orden uno: f(x+h) ≈ {taylor_order_1}\")\n",
        "print(f\"Orden dos: f(x+h) ≈ {taylor_order_2}\")\n",
        "\n",
        "print(\"\\nResiduo R_2 (evaluado con c ≈ 1):\")\n",
        "print(f\"R_2 ≈ {R2.evalf()}\")\n"
      ]
    }
  ]
}